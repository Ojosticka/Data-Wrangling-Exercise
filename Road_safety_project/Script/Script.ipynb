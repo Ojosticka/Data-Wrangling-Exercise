{
  "nbformat": 4,
  "nbformat_minor": 2,
  "metadata": {
    "colab": {
      "name": "Script.ipynb",
      "provenance": []
    },
    "kernelspec": {
      "name": "python3",
      "display_name": "Python 3.8.5 64-bit"
    },
    "language_info": {
      "name": "python",
      "version": "3.8.5",
      "mimetype": "text/x-python",
      "codemirror_mode": {
        "name": "ipython",
        "version": 3
      },
      "pygments_lexer": "ipython3",
      "nbconvert_exporter": "python",
      "file_extension": ".py"
    },
    "interpreter": {
      "hash": "175bea03f8779bc83780d300a14fd90554620452514d9b41fff297dfbd54e30a"
    }
  },
  "cells": [
    {
      "cell_type": "markdown",
      "source": [
        "Datopian - Data Wrangling Challenge (Script)"
      ],
      "metadata": {
        "id": "cSRR5Gs5D8fC"
      }
    },
    {
      "cell_type": "code",
      "execution_count": 11,
      "source": [
        "#Import the required libraries needed for this script\r\n",
        "import pandas as pd"
      ],
      "outputs": [],
      "metadata": {
        "id": "ai6Qr3x1-EuU"
      }
    },
    {
      "cell_type": "code",
      "execution_count": 12,
      "source": [
        "def get_data():\r\n",
        "    '''\r\n",
        "    Read the website with its url into the script\r\n",
        "    Method - pd.read_html (reads all the tables in the website and puts them in a list)\r\n",
        "    List indexing is used to get the required table\r\n",
        "    '''\r\n",
        "\r\n",
        "    df = pd.read_html('https://en.wikipedia.org/wiki/Road_safety_in_Europe')\r\n",
        "    data = df[2]\r\n",
        "\r\n",
        "    #Select the required columns from the table, filtering out the ones that won't be used \r\n",
        "    data = data[['Country', 'Area (thousands of km2)[24]', 'Population in 2018[25]', 'GDP per capita in 2018[26]', 'Population density (inhabitants per km2) in 2017[27]', \r\n",
        "             'Vehicle ownership (per thousand inhabitants) in 2016[28]', 'Total Road Deaths in 2018[30]', 'Road deaths per Million Inhabitants in 2018[30]']]\r\n",
        "\r\n",
        "    #Rename the filtered columns to standard names as required.\r\n",
        "    data = data.rename(columns={\r\n",
        "        'Area (thousands of km2)[24]':'Area',\r\n",
        "        'Population in 2018[25]':'Population',\r\n",
        "        'GDP per capita in 2018[26]':'GDP per Capita',\r\n",
        "        'Population density (inhabitants per km2) in 2017[27]':'Population Density',\r\n",
        "        'Vehicle ownership (per thousand inhabitants) in 2016[28]':'Vehicle Ownership',\r\n",
        "        'Total Road Deaths in 2018[30]':'Total Road Deaths',\r\n",
        "        'Road deaths per Million Inhabitants in 2018[30]':'Road deaths per Million Inhabitants'}) \r\n",
        "    \r\n",
        "    #Insert a Year column in the data and populate with a constant value of 2018\r\n",
        "    data.insert(1, 'Year', 2018)\r\n",
        "\r\n",
        "    #Sort data using the Road deaths per million inhabitants column, excluding the last row\r\n",
        "    #The last row contains EU total for all countries, and should remain at the bottom of the table\r\n",
        "    sorted_data = data[0:28].sort_values('Road deaths per Million Inhabitants')\r\n",
        "\r\n",
        "    #Adding the EU total row back to the bottom of the sorted data.\r\n",
        "    data = sorted_data.append(data.loc[28])\r\n",
        "\r\n",
        "    #store the resulting dataset in a csv file, and filter out the index, allowing \"Country\" as first column in resulting csv file.\r\n",
        "    data.to_csv('data.csv', index=False)\r\n",
        "\r\n",
        "    return data"
      ],
      "outputs": [],
      "metadata": {
        "id": "M_utQ7U6ESd3"
      }
    },
    {
      "cell_type": "code",
      "execution_count": 13,
      "source": [
        "#call the function here\r\n",
        "get_data()"
      ],
      "outputs": [],
      "metadata": {
        "id": "3P-lsO60Givv"
      }
    },
    {
      "cell_type": "code",
      "execution_count": null,
      "source": [],
      "outputs": [],
      "metadata": {}
    }
  ]
}